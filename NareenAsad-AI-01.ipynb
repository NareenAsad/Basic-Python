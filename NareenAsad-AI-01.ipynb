{
 "cells": [
  {
   "cell_type": "markdown",
   "id": "f0139499",
   "metadata": {},
   "source": [
    "# Q1 : "
   ]
  },
  {
   "cell_type": "code",
   "execution_count": 1,
   "id": "07055719",
   "metadata": {},
   "outputs": [
    {
     "name": "stdout",
     "output_type": "stream",
     "text": [
      "Enter your name :Nareen\n",
      "Hello Nareen\n"
     ]
    }
   ],
   "source": [
    "name=input(\"Enter your name :\")\n",
    "print('Hello',name)"
   ]
  },
  {
   "cell_type": "markdown",
   "id": "68487caa",
   "metadata": {},
   "source": [
    "# Q2 : "
   ]
  },
  {
   "cell_type": "code",
   "execution_count": 2,
   "id": "d410d098",
   "metadata": {},
   "outputs": [
    {
     "name": "stdout",
     "output_type": "stream",
     "text": [
      "Enter Hours:  35\n",
      "Enter Rate:  2.75\n"
     ]
    }
   ],
   "source": [
    "hours = input(\"Enter Hours:  \")\n",
    "rate = input(\"Enter Rate:  \")"
   ]
  },
  {
   "cell_type": "code",
   "execution_count": 3,
   "id": "8ce55e8d",
   "metadata": {},
   "outputs": [
    {
     "data": {
      "text/plain": [
       "str"
      ]
     },
     "execution_count": 3,
     "metadata": {},
     "output_type": "execute_result"
    }
   ],
   "source": [
    "type(hours)\n",
    "type(rate)"
   ]
  },
  {
   "cell_type": "code",
   "execution_count": 5,
   "id": "84a96d03",
   "metadata": {},
   "outputs": [],
   "source": [
    "# convert string to number\n",
    "# number: int float\n",
    "hours = float(hours)\n",
    "rate = float(rate)"
   ]
  },
  {
   "cell_type": "code",
   "execution_count": 6,
   "id": "131e563d",
   "metadata": {},
   "outputs": [
    {
     "data": {
      "text/plain": [
       "float"
      ]
     },
     "execution_count": 6,
     "metadata": {},
     "output_type": "execute_result"
    }
   ],
   "source": [
    "type(hours)"
   ]
  },
  {
   "cell_type": "code",
   "execution_count": 7,
   "id": "36ce5e40",
   "metadata": {},
   "outputs": [],
   "source": [
    "pay = hours * rate"
   ]
  },
  {
   "cell_type": "code",
   "execution_count": 8,
   "id": "7eb059ae",
   "metadata": {},
   "outputs": [
    {
     "name": "stdout",
     "output_type": "stream",
     "text": [
      "96.25\n"
     ]
    }
   ],
   "source": [
    "print(pay)"
   ]
  },
  {
   "cell_type": "markdown",
   "id": "61a668d2",
   "metadata": {},
   "source": [
    "# Q3 : "
   ]
  },
  {
   "cell_type": "code",
   "execution_count": 9,
   "id": "8f2a7dd6",
   "metadata": {},
   "outputs": [],
   "source": [
    "name_of_var = 2"
   ]
  },
  {
   "cell_type": "code",
   "execution_count": 10,
   "id": "681cf3de",
   "metadata": {},
   "outputs": [],
   "source": [
    "width = 17\n",
    "height = 12.0"
   ]
  },
  {
   "cell_type": "code",
   "execution_count": 13,
   "id": "0da3abca",
   "metadata": {},
   "outputs": [
    {
     "name": "stdout",
     "output_type": "stream",
     "text": [
      "8\n"
     ]
    }
   ],
   "source": [
    "x1 =width//2\n",
    "print(x1)"
   ]
  },
  {
   "cell_type": "code",
   "execution_count": 15,
   "id": "121e75e0",
   "metadata": {},
   "outputs": [
    {
     "data": {
      "text/plain": [
       "int"
      ]
     },
     "execution_count": 15,
     "metadata": {},
     "output_type": "execute_result"
    }
   ],
   "source": [
    "# find type of any object\n",
    "type(x1)"
   ]
  },
  {
   "cell_type": "code",
   "execution_count": 16,
   "id": "ec60bb6e",
   "metadata": {},
   "outputs": [
    {
     "name": "stdout",
     "output_type": "stream",
     "text": [
      "8.5\n"
     ]
    }
   ],
   "source": [
    "x2 =width/2.0\n",
    "print(x2)"
   ]
  },
  {
   "cell_type": "code",
   "execution_count": 17,
   "id": "c16b2fc0",
   "metadata": {},
   "outputs": [
    {
     "data": {
      "text/plain": [
       "float"
      ]
     },
     "execution_count": 17,
     "metadata": {},
     "output_type": "execute_result"
    }
   ],
   "source": [
    "# find type of any object\n",
    "type(x2)"
   ]
  },
  {
   "cell_type": "code",
   "execution_count": 18,
   "id": "d2d771b1",
   "metadata": {},
   "outputs": [
    {
     "name": "stdout",
     "output_type": "stream",
     "text": [
      "4.0\n"
     ]
    }
   ],
   "source": [
    "x3 =height/3\n",
    "print(x3)"
   ]
  },
  {
   "cell_type": "code",
   "execution_count": 19,
   "id": "4ec7039a",
   "metadata": {},
   "outputs": [
    {
     "data": {
      "text/plain": [
       "float"
      ]
     },
     "execution_count": 19,
     "metadata": {},
     "output_type": "execute_result"
    }
   ],
   "source": [
    "# find type of any object\n",
    "type(x3)"
   ]
  },
  {
   "cell_type": "code",
   "execution_count": 21,
   "id": "bea3ad32",
   "metadata": {},
   "outputs": [
    {
     "name": "stdout",
     "output_type": "stream",
     "text": [
      "11\n"
     ]
    }
   ],
   "source": [
    "y1 =1+2*5\n",
    "print(y1)"
   ]
  },
  {
   "cell_type": "markdown",
   "id": "b54a7441",
   "metadata": {},
   "source": [
    "# Q4 : "
   ]
  },
  {
   "cell_type": "code",
   "execution_count": 22,
   "id": "d9dcf643",
   "metadata": {},
   "outputs": [
    {
     "name": "stdout",
     "output_type": "stream",
     "text": [
      "celcius temp: 34\n",
      "farenheit temperature 93.2\n"
     ]
    }
   ],
   "source": [
    "temp= float(input(\"celcius temp: \"))\n",
    "temperature = (float(temp*1.8)+32)\n",
    "print(\"farenheit temperature\",temperature)"
   ]
  },
  {
   "cell_type": "code",
   "execution_count": 23,
   "id": "ba08ba1a",
   "metadata": {
    "scrolled": true
   },
   "outputs": [
    {
     "name": "stdout",
     "output_type": "stream",
     "text": [
      "cel temp:45\n",
      "farenheit temp:  113\n"
     ]
    }
   ],
   "source": [
    "t= int(input('cel temp:' ))\n",
    "far= (int(t*9/5)+32)\n",
    "print('farenheit temp: ', far)"
   ]
  },
  {
   "cell_type": "markdown",
   "id": "1ba1c443",
   "metadata": {},
   "source": [
    "# Q9 : "
   ]
  },
  {
   "cell_type": "code",
   "execution_count": 40,
   "id": "4496cbc4",
   "metadata": {},
   "outputs": [
    {
     "name": "stdout",
     "output_type": "stream",
     "text": [
      "Welcome To Pak Navy Title-Case\n"
     ]
    }
   ],
   "source": [
    "str ='welcome to pak navy title-case'\n",
    "z1 =str.title()\n",
    "print(z1)"
   ]
  },
  {
   "cell_type": "markdown",
   "id": "0e63c82c",
   "metadata": {},
   "source": [
    "# Q6 : "
   ]
  },
  {
   "cell_type": "code",
   "execution_count": 36,
   "id": "f97e1853",
   "metadata": {},
   "outputs": [
    {
     "name": "stdout",
     "output_type": "stream",
     "text": [
      "Enter your principal5\n",
      "Enter your rate of interest7\n",
      "Enter your duration30\n",
      "Your interest is: 10.5\n"
     ]
    }
   ],
   "source": [
    "p = input(\"Enter your principal\")\n",
    "r = input(\"Enter your rate of interest\")\n",
    "t = input(\"Enter your duration\")\n",
    "y = float(p)*float(r)*float(t)/100\n",
    "print(\"Your interest is:\" ,y)"
   ]
  },
  {
   "cell_type": "markdown",
   "id": "d0bdf692",
   "metadata": {},
   "source": [
    "# Q7 : "
   ]
  },
  {
   "cell_type": "code",
   "execution_count": 37,
   "id": "038b9627",
   "metadata": {},
   "outputs": [
    {
     "name": "stdout",
     "output_type": "stream",
     "text": [
      "Enter two complex numbers in form of a+bj: \n",
      "4+6j\n",
      "5+7j\n",
      "sum = (9+13j)\n"
     ]
    }
   ],
   "source": [
    "print(\"Enter two complex numbers in form of a+bj: \")\n",
    "n1 = complex(input())\n",
    "n2 = complex(input())\n",
    "print(\"sum =\", n1 + n2)"
   ]
  },
  {
   "cell_type": "code",
   "execution_count": 38,
   "id": "48b1b099",
   "metadata": {},
   "outputs": [
    {
     "name": "stdout",
     "output_type": "stream",
     "text": [
      "Enter two complex numbers in form of a-bj: \n",
      "6-3j\n",
      "7-1j\n",
      "difference = (-1-2j)\n"
     ]
    }
   ],
   "source": [
    "print(\"Enter two complex numbers in form of a-bj: \")\n",
    "n1 = complex(input())\n",
    "n2 = complex(input())\n",
    "print(\"difference =\", n1 - n2)"
   ]
  },
  {
   "cell_type": "code",
   "execution_count": 39,
   "id": "045987c4",
   "metadata": {},
   "outputs": [
    {
     "name": "stdout",
     "output_type": "stream",
     "text": [
      "Enter two complex numbers in form of a*bj: \n",
      "34\n",
      "15j\n",
      "Product= 510j\n"
     ]
    }
   ],
   "source": [
    "print(\"Enter two complex numbers in form of a*bj: \")\n",
    "n1 = complex(input())\n",
    "n2 = complex(input())\n",
    "print(\"Product=\", n1*n2)"
   ]
  },
  {
   "cell_type": "markdown",
   "id": "3ebf8cff",
   "metadata": {},
   "source": [
    "# STRINGS"
   ]
  },
  {
   "cell_type": "markdown",
   "id": "9dac9f30",
   "metadata": {},
   "source": [
    "# Q1 :"
   ]
  },
  {
   "cell_type": "code",
   "execution_count": 2,
   "id": "2f9944af",
   "metadata": {},
   "outputs": [
    {
     "name": "stdout",
     "output_type": "stream",
     "text": [
      "18\n"
     ]
    }
   ],
   "source": [
    "str ='X-DSPAM-Confidence:0.8475'\n",
    "data =str.find(\":\")\n",
    "print(data)"
   ]
  },
  {
   "cell_type": "code",
   "execution_count": 3,
   "id": "3437129b",
   "metadata": {},
   "outputs": [
    {
     "data": {
      "text/plain": [
       "'0.8475'"
      ]
     },
     "execution_count": 3,
     "metadata": {},
     "output_type": "execute_result"
    }
   ],
   "source": [
    "str[19:]"
   ]
  },
  {
   "cell_type": "code",
   "execution_count": 4,
   "id": "402716bc",
   "metadata": {},
   "outputs": [
    {
     "data": {
      "text/plain": [
       "str"
      ]
     },
     "execution_count": 4,
     "metadata": {},
     "output_type": "execute_result"
    }
   ],
   "source": [
    "# find the type of this object\n",
    "type(str)"
   ]
  },
  {
   "cell_type": "code",
   "execution_count": 5,
   "id": "b8d249e3",
   "metadata": {},
   "outputs": [
    {
     "data": {
      "text/plain": [
       "float"
      ]
     },
     "execution_count": 5,
     "metadata": {},
     "output_type": "execute_result"
    }
   ],
   "source": [
    "s = float(str[19:])\n",
    "type(s)"
   ]
  },
  {
   "cell_type": "markdown",
   "id": "dc3f8dde",
   "metadata": {},
   "source": [
    "# Q2 :"
   ]
  },
  {
   "cell_type": "code",
   "execution_count": 1,
   "id": "4e0ca475",
   "metadata": {},
   "outputs": [
    {
     "name": "stdout",
     "output_type": "stream",
     "text": [
      "['Welcome', 'to', 'the', 'course', 'on', 'Data', 'Science']\n"
     ]
    }
   ],
   "source": [
    "# split \n",
    "my_str =\"Welcome to the course on Data Science\"\n",
    "splited_str= my_str.split (\" \")\n",
    "print(splited_str)"
   ]
  },
  {
   "cell_type": "code",
   "execution_count": 2,
   "id": "75f85053",
   "metadata": {},
   "outputs": [
    {
     "name": "stdout",
     "output_type": "stream",
     "text": [
      "Welcome to\n"
     ]
    }
   ],
   "source": [
    "g =my_str[:10]\n",
    "print(g)"
   ]
  },
  {
   "cell_type": "code",
   "execution_count": 3,
   "id": "8bb0fff8",
   "metadata": {},
   "outputs": [
    {
     "name": "stdout",
     "output_type": "stream",
     "text": [
      "Welcome  Science\n"
     ]
    }
   ],
   "source": [
    "# concatination\n",
    "my_str[:7]\n",
    "my_str[-8:]\n",
    "x =print(my_str[:7],\"\"+my_str[-8:])"
   ]
  },
  {
   "cell_type": "markdown",
   "id": "48c88a39",
   "metadata": {},
   "source": [
    "# Q4 :"
   ]
  },
  {
   "cell_type": "code",
   "execution_count": 59,
   "id": "282a5f28",
   "metadata": {},
   "outputs": [
    {
     "name": "stdout",
     "output_type": "stream",
     "text": [
      "2\n"
     ]
    }
   ],
   "source": [
    "str = (\"this pet is my new pet\")\n",
    "z4 =str.count(\"pet\")\n",
    "print(z4)"
   ]
  },
  {
   "cell_type": "markdown",
   "id": "27c9fcc9",
   "metadata": {},
   "source": [
    "# Q5 :"
   ]
  },
  {
   "cell_type": "code",
   "execution_count": 47,
   "id": "422f1985",
   "metadata": {},
   "outputs": [],
   "source": [
    "s =\"Welcome Science\""
   ]
  },
  {
   "cell_type": "code",
   "execution_count": 48,
   "id": "f28938d5",
   "metadata": {},
   "outputs": [
    {
     "name": "stdout",
     "output_type": "stream",
     "text": [
      "4\n"
     ]
    }
   ],
   "source": [
    "# count occurrence in a string\n",
    "data_1 =s.count('e')\n",
    "print(data_1)"
   ]
  },
  {
   "cell_type": "code",
   "execution_count": 49,
   "id": "ab0f6aa1",
   "metadata": {},
   "outputs": [
    {
     "name": "stdout",
     "output_type": "stream",
     "text": [
      "0\n"
     ]
    }
   ],
   "source": [
    "data_2 =s.count('w')\n",
    "print(data_2)"
   ]
  },
  {
   "cell_type": "code",
   "execution_count": 50,
   "id": "19292a2b",
   "metadata": {},
   "outputs": [
    {
     "name": "stdout",
     "output_type": "stream",
     "text": [
      "3\n"
     ]
    }
   ],
   "source": [
    "data_3 =s.count('c')\n",
    "print(data_3)"
   ]
  },
  {
   "cell_type": "code",
   "execution_count": 51,
   "id": "35fe2625",
   "metadata": {},
   "outputs": [
    {
     "name": "stdout",
     "output_type": "stream",
     "text": [
      "1\n"
     ]
    }
   ],
   "source": [
    "data_4 =s.count('l')\n",
    "print(data_4)"
   ]
  },
  {
   "cell_type": "code",
   "execution_count": 52,
   "id": "581eacae",
   "metadata": {},
   "outputs": [
    {
     "name": "stdout",
     "output_type": "stream",
     "text": [
      "0\n"
     ]
    }
   ],
   "source": [
    "data_5 =s.count('s')\n",
    "print(data_5)"
   ]
  },
  {
   "cell_type": "code",
   "execution_count": 53,
   "id": "f7f3f377",
   "metadata": {},
   "outputs": [
    {
     "name": "stdout",
     "output_type": "stream",
     "text": [
      "1\n"
     ]
    }
   ],
   "source": [
    "data_6 =s.count('o')\n",
    "print(data_6)"
   ]
  },
  {
   "cell_type": "code",
   "execution_count": 54,
   "id": "33aacc26",
   "metadata": {},
   "outputs": [
    {
     "name": "stdout",
     "output_type": "stream",
     "text": [
      "1\n"
     ]
    }
   ],
   "source": [
    "data_7 =s.count('i')\n",
    "print(data_7)"
   ]
  },
  {
   "cell_type": "code",
   "execution_count": 55,
   "id": "dc67ffe9",
   "metadata": {},
   "outputs": [
    {
     "name": "stdout",
     "output_type": "stream",
     "text": [
      "1\n"
     ]
    }
   ],
   "source": [
    "data_8 =s.count('m')\n",
    "print(data_8)"
   ]
  },
  {
   "cell_type": "code",
   "execution_count": 56,
   "id": "3d213bad",
   "metadata": {},
   "outputs": [
    {
     "name": "stdout",
     "output_type": "stream",
     "text": [
      "1\n"
     ]
    }
   ],
   "source": [
    "data_9 =s.count('n')\n",
    "print(data_9)"
   ]
  },
  {
   "cell_type": "markdown",
   "id": "ea415182",
   "metadata": {},
   "source": [
    "# Q6 : "
   ]
  },
  {
   "cell_type": "code",
   "execution_count": 1,
   "id": "57a450d0",
   "metadata": {},
   "outputs": [
    {
     "name": "stdout",
     "output_type": "stream",
     "text": [
      "I nt\n"
     ]
    }
   ],
   "source": [
    "# Concatination\n",
    "s =\"I am a programmer. I am a student\"\n",
    "s[0]\n",
    "s[-2]\n",
    "z = s[0] +\" \"+ s[-2:]\n",
    "print(z)"
   ]
  },
  {
   "cell_type": "markdown",
   "id": "6ed64d27",
   "metadata": {},
   "source": [
    "# LISTS"
   ]
  },
  {
   "cell_type": "markdown",
   "id": "13ba4a0f",
   "metadata": {},
   "source": [
    "# Q1:"
   ]
  },
  {
   "cell_type": "code",
   "execution_count": 9,
   "id": "2a72cd91",
   "metadata": {},
   "outputs": [
    {
     "name": "stdout",
     "output_type": "stream",
     "text": [
      "[1, 2, 3, 4, 12]\n"
     ]
    }
   ],
   "source": [
    "# list creation\n",
    "x =[1,2,3,4,12]\n",
    "print(x)"
   ]
  },
  {
   "cell_type": "code",
   "execution_count": 10,
   "id": "1e80adc1",
   "metadata": {},
   "outputs": [
    {
     "name": "stdout",
     "output_type": "stream",
     "text": [
      "[2, 3, 4]\n"
     ]
    }
   ],
   "source": [
    "# list slicing\n",
    "middle =x[1:4]\n",
    "print(middle)"
   ]
  },
  {
   "cell_type": "markdown",
   "id": "02d23a00",
   "metadata": {},
   "source": [
    "# Q2:"
   ]
  },
  {
   "cell_type": "code",
   "execution_count": 11,
   "id": "af82b1bc",
   "metadata": {},
   "outputs": [
    {
     "data": {
      "text/plain": [
       "{'from', 'new', 'previous', 'the', 'to', 'welcome', 'world'}"
      ]
     },
     "execution_count": 11,
     "metadata": {},
     "output_type": "execute_result"
    }
   ],
   "source": [
    "text_file ={\"welcome\",\"to\",\"the\",\"new\",\"world\",\"from\",\"previous\",\"world\"}\n",
    "text_file"
   ]
  },
  {
   "cell_type": "markdown",
   "id": "e034276d",
   "metadata": {},
   "source": [
    "# Q3:"
   ]
  },
  {
   "cell_type": "code",
   "execution_count": 1,
   "id": "3782afdc",
   "metadata": {},
   "outputs": [],
   "source": [
    "evens =[2,4,6,8]\n",
    "odds =[1,3,5,7]"
   ]
  },
  {
   "cell_type": "code",
   "execution_count": 2,
   "id": "b6b59adf",
   "metadata": {},
   "outputs": [
    {
     "name": "stdout",
     "output_type": "stream",
     "text": [
      "[1, 3, 5, 7, 2, 4, 6, 8]\n"
     ]
    }
   ],
   "source": [
    "nums =odds + evens\n",
    "print(nums)"
   ]
  },
  {
   "cell_type": "markdown",
   "id": "e0fdca9e",
   "metadata": {},
   "source": [
    "# Q4:"
   ]
  },
  {
   "cell_type": "code",
   "execution_count": 1,
   "id": "666a2d34",
   "metadata": {},
   "outputs": [
    {
     "data": {
      "text/plain": [
       "[10, 20, 5, 60, 80, 90]"
      ]
     },
     "execution_count": 1,
     "metadata": {},
     "output_type": "execute_result"
    }
   ],
   "source": [
    "numbers =[10,20,5,60,80,90]\n",
    "numbers"
   ]
  },
  {
   "cell_type": "code",
   "execution_count": 2,
   "id": "3cb503b7",
   "metadata": {},
   "outputs": [],
   "source": [
    "numbers.sort()"
   ]
  },
  {
   "cell_type": "code",
   "execution_count": 3,
   "id": "61ef2753",
   "metadata": {},
   "outputs": [],
   "source": [
    "smallest =numbers[0]\n",
    "largest =numbers[-1]"
   ]
  },
  {
   "cell_type": "code",
   "execution_count": 4,
   "id": "40033199",
   "metadata": {},
   "outputs": [
    {
     "name": "stdout",
     "output_type": "stream",
     "text": [
      "largest is: 90\n",
      "smallest is: 5\n"
     ]
    }
   ],
   "source": [
    "print(f\"largest is: {largest}\")\n",
    "print(f\"smallest is: {smallest}\")"
   ]
  },
  {
   "cell_type": "markdown",
   "id": "42dad1f6",
   "metadata": {},
   "source": [
    "# Q5:"
   ]
  },
  {
   "cell_type": "code",
   "execution_count": 8,
   "id": "522030bf",
   "metadata": {},
   "outputs": [
    {
     "name": "stdout",
     "output_type": "stream",
     "text": [
      "list items = [1, 2, 6, 7, 4, 2, 3, 6]\n"
     ]
    }
   ],
   "source": [
    "# remove duplicates from list\n",
    "dupList =[1,2,6,7,4,2,3,6]\n",
    "print(\"list items =\",dupList)"
   ]
  },
  {
   "cell_type": "code",
   "execution_count": 10,
   "id": "bedbd18a",
   "metadata": {},
   "outputs": [],
   "source": [
    "uniqSet =set(dupList)\n",
    "uniqList =list(uniqSet)"
   ]
  },
  {
   "cell_type": "code",
   "execution_count": 11,
   "id": "8e5e4d12",
   "metadata": {},
   "outputs": [
    {
     "name": "stdout",
     "output_type": "stream",
     "text": [
      "list items after removing duplicates= [1, 2, 3, 4, 6, 7]\n"
     ]
    }
   ],
   "source": [
    "print(\"list items after removing duplicates=\",uniqList)"
   ]
  },
  {
   "cell_type": "markdown",
   "id": "2696e540",
   "metadata": {},
   "source": [
    "# Q6:"
   ]
  },
  {
   "cell_type": "code",
   "execution_count": 8,
   "id": "7b17d3f8",
   "metadata": {},
   "outputs": [],
   "source": [
    "# print at least one member in two lists are same\n",
    "list_A =[6,7,8,9,\"d\",\"c\",\"e\"]\n",
    "list_B =[8,5,9,3,\"c\",\"b\"]"
   ]
  },
  {
   "cell_type": "code",
   "execution_count": 9,
   "id": "a1e5b76b",
   "metadata": {},
   "outputs": [],
   "source": [
    "x =set(list_A)\n",
    "y =set(list_B)"
   ]
  },
  {
   "cell_type": "code",
   "execution_count": 10,
   "id": "b93bcc0a",
   "metadata": {},
   "outputs": [
    {
     "name": "stdout",
     "output_type": "stream",
     "text": [
      "{8, 9, 'c'}\n"
     ]
    }
   ],
   "source": [
    "z =x.intersection(y)\n",
    "print(z)"
   ]
  },
  {
   "cell_type": "markdown",
   "id": "07f90f0a",
   "metadata": {},
   "source": [
    "# Q7:"
   ]
  },
  {
   "cell_type": "code",
   "execution_count": 12,
   "id": "6d7b8cc7",
   "metadata": {},
   "outputs": [
    {
     "data": {
      "text/plain": [
       "['H', 'e', 'l', 'l', 'o']"
      ]
     },
     "execution_count": 12,
     "metadata": {},
     "output_type": "execute_result"
    }
   ],
   "source": [
    "list1 =['H','e','l','l','o']\n",
    "list1"
   ]
  },
  {
   "cell_type": "code",
   "execution_count": 13,
   "id": "9b538e38",
   "metadata": {},
   "outputs": [
    {
     "name": "stdout",
     "output_type": "stream",
     "text": [
      "list1:  ['H', 'e', 'l', 'l', 'o']\n",
      "type(list1):  <class 'list'>\n",
      "\n"
     ]
    }
   ],
   "source": [
    "# printing characters list and its type\n",
    "print(\"list1: \",list1)\n",
    "print(\"type(list1): \",type(list1))\n",
    "print()"
   ]
  },
  {
   "cell_type": "code",
   "execution_count": 14,
   "id": "982bbbd0",
   "metadata": {},
   "outputs": [],
   "source": [
    "# convertind character list to string\n",
    "str =\"\"\n",
    "for i in list1:\n",
    "    str +=i;"
   ]
  },
  {
   "cell_type": "code",
   "execution_count": 15,
   "id": "eeb6b253",
   "metadata": {},
   "outputs": [
    {
     "name": "stdout",
     "output_type": "stream",
     "text": [
      "str:  Hello\n",
      "type(str):  <class 'str'>\n"
     ]
    }
   ],
   "source": [
    "# print the string and its type\n",
    "print(\"str: \",str)\n",
    "print(\"type(str): \",type(str))"
   ]
  },
  {
   "cell_type": "markdown",
   "id": "ab3b1fcb",
   "metadata": {},
   "source": [
    "# Q8:"
   ]
  },
  {
   "cell_type": "code",
   "execution_count": 17,
   "id": "a35b3da2",
   "metadata": {},
   "outputs": [],
   "source": [
    "# two lists are identical\n",
    "listA =['Mon','Tue','Wed','Thu']\n",
    "listB =['Mon','Wed','Tue','Thu']"
   ]
  },
  {
   "cell_type": "code",
   "execution_count": 18,
   "id": "66673a9b",
   "metadata": {},
   "outputs": [
    {
     "name": "stdout",
     "output_type": "stream",
     "text": [
      "Given listA:  ['Mon', 'Tue', 'Wed', 'Thu']\n",
      "Given listB:  ['Mon', 'Wed', 'Tue', 'Thu']\n"
     ]
    }
   ],
   "source": [
    "# Given lists\n",
    "print(\"Given listA: \",listA)\n",
    "print(\"Given listB: \",listB)"
   ]
  },
  {
   "cell_type": "code",
   "execution_count": 19,
   "id": "981c83e5",
   "metadata": {},
   "outputs": [],
   "source": [
    "# sort lists\n",
    "listA.sort()\n",
    "listB.sort()"
   ]
  },
  {
   "cell_type": "code",
   "execution_count": 20,
   "id": "98e743e6",
   "metadata": {},
   "outputs": [
    {
     "name": "stdout",
     "output_type": "stream",
     "text": [
      "Lists are identical\n"
     ]
    }
   ],
   "source": [
    "# check for equality\n",
    "if (listA == listB):\n",
    "    print(\"Lists are identical\")\n",
    "else:\n",
    "    print(\"Lists are not identical\")"
   ]
  },
  {
   "cell_type": "markdown",
   "id": "f399ce4a",
   "metadata": {},
   "source": [
    "# Q9:"
   ]
  },
  {
   "cell_type": "code",
   "execution_count": 1,
   "id": "b02bd8e8",
   "metadata": {},
   "outputs": [
    {
     "name": "stdout",
     "output_type": "stream",
     "text": [
      "{'sudo', 'newlook', 'outlook', 'pbs'}\n"
     ]
    }
   ],
   "source": [
    "# print unique value\n",
    "mylis =['pbs','newlook','pbs','outlook','sudo','outlook']\n",
    "set_1 =set(mylis)\n",
    "print(set_1)"
   ]
  },
  {
   "cell_type": "markdown",
   "id": "68baad4b",
   "metadata": {},
   "source": [
    "# Q10:"
   ]
  },
  {
   "cell_type": "code",
   "execution_count": 21,
   "id": "d697bda7",
   "metadata": {},
   "outputs": [
    {
     "data": {
      "text/plain": [
       "3"
      ]
     },
     "execution_count": 21,
     "metadata": {},
     "output_type": "execute_result"
    }
   ],
   "source": [
    "# number of occurrence of each element in list\n",
    "lis_0 =[1,4,3,5,4,6,7,4]\n",
    "lis_0.count(4)"
   ]
  },
  {
   "cell_type": "markdown",
   "id": "fb9bacac",
   "metadata": {},
   "source": [
    "# Q11:"
   ]
  },
  {
   "cell_type": "code",
   "execution_count": 2,
   "id": "ce6f4408",
   "metadata": {},
   "outputs": [
    {
     "data": {
      "text/plain": [
       "[[24, 55], [13, 76], [45, 89, 77]]"
      ]
     },
     "execution_count": 2,
     "metadata": {},
     "output_type": "execute_result"
    }
   ],
   "source": [
    "# sublist in a list of lists\n",
    "z_lis =[[24,55],[13,76],[45,89,77]]\n",
    "z_lis"
   ]
  },
  {
   "cell_type": "code",
   "execution_count": 3,
   "id": "e436f1ba",
   "metadata": {},
   "outputs": [
    {
     "name": "stdout",
     "output_type": "stream",
     "text": [
      "[45, 89, 77]\n"
     ]
    }
   ],
   "source": [
    "w =max(z_lis)\n",
    "print(w)"
   ]
  },
  {
   "cell_type": "code",
   "execution_count": 4,
   "id": "b4a350d8",
   "metadata": {},
   "outputs": [
    {
     "data": {
      "text/plain": [
       "211"
      ]
     },
     "execution_count": 4,
     "metadata": {},
     "output_type": "execute_result"
    }
   ],
   "source": [
    "sum(max(z_lis))"
   ]
  },
  {
   "cell_type": "markdown",
   "id": "78c10570",
   "metadata": {},
   "source": [
    "# Q12:"
   ]
  },
  {
   "cell_type": "code",
   "execution_count": 1,
   "id": "f41d4ffa",
   "metadata": {},
   "outputs": [
    {
     "name": "stdout",
     "output_type": "stream",
     "text": [
      "['Newa', 'Newb', 'Newc']\n"
     ]
    }
   ],
   "source": [
    "# insert string in list\n",
    "list =[\"a\",\"b\",\"c\"]\n",
    "print([\"New{0}\".format(i) for i in list])"
   ]
  },
  {
   "cell_type": "markdown",
   "id": "e4ad526d",
   "metadata": {},
   "source": [
    "# Q13:"
   ]
  },
  {
   "cell_type": "code",
   "execution_count": 1,
   "id": "b7dfed70",
   "metadata": {},
   "outputs": [
    {
     "data": {
      "text/plain": [
       "'Hi there'"
      ]
     },
     "execution_count": 1,
     "metadata": {},
     "output_type": "execute_result"
    }
   ],
   "source": [
    "str_5 =\"Hi there\"\n",
    "str_5"
   ]
  },
  {
   "cell_type": "code",
   "execution_count": 2,
   "id": "9ba26b0e",
   "metadata": {},
   "outputs": [],
   "source": [
    "list =[]\n",
    "list.append(str_5[0])\n",
    "list.append(str_5[1])\n",
    "list.append(str_5[2])\n",
    "list.append(str_5[3])\n",
    "list.append(str_5[4])\n",
    "list.append(str_5[5])\n",
    "list.append(str_5[6])\n",
    "list.append(str_5[7])"
   ]
  },
  {
   "cell_type": "code",
   "execution_count": 3,
   "id": "daa34dc0",
   "metadata": {},
   "outputs": [
    {
     "data": {
      "text/plain": [
       "['H', 'i', ' ', 't', 'h', 'e', 'r', 'e']"
      ]
     },
     "execution_count": 3,
     "metadata": {},
     "output_type": "execute_result"
    }
   ],
   "source": [
    "list"
   ]
  },
  {
   "cell_type": "code",
   "execution_count": 29,
   "id": "bb36eeb8",
   "metadata": {},
   "outputs": [
    {
     "name": "stdout",
     "output_type": "stream",
     "text": [
      "[3, 4, 5, 12, 6, 2, 7, 8, 1, 34, 56]\n"
     ]
    }
   ],
   "source": [
    "# concatination of element\n",
    "lis_1 =[3,4,5,12,6]\n",
    "lis_2 =[2,7,8,1,34,56]\n",
    "y =lis_1 + lis_2\n",
    "print(y)"
   ]
  },
  {
   "cell_type": "markdown",
   "id": "08138901",
   "metadata": {},
   "source": [
    "# Q15:"
   ]
  },
  {
   "cell_type": "code",
   "execution_count": 32,
   "id": "f23d19cf",
   "metadata": {},
   "outputs": [
    {
     "name": "stdout",
     "output_type": "stream",
     "text": [
      "[[1, 4, 6], [8, 5, 34, 12, 55]]\n"
     ]
    }
   ],
   "source": [
    "# obtain list of lists\n",
    "list_m =[1,4,6,7,8,5,34,12,55]\n",
    "list_of_list =[list_m[0:3],list_m[4:]]\n",
    "print(list_of_list)"
   ]
  },
  {
   "cell_type": "markdown",
   "id": "343d7800",
   "metadata": {},
   "source": [
    "# Q16:"
   ]
  },
  {
   "cell_type": "code",
   "execution_count": 35,
   "id": "ac2151af",
   "metadata": {},
   "outputs": [
    {
     "name": "stdout",
     "output_type": "stream",
     "text": [
      "25122\n"
     ]
    }
   ],
   "source": [
    "# convert list of multiple int into single int\n",
    "my_list1 =[25,12,2]\n",
    "z =str(25) + str(12) + str(2)\n",
    "print(z)"
   ]
  },
  {
   "cell_type": "markdown",
   "id": "2e97fd15",
   "metadata": {},
   "source": [
    "# TUPLE"
   ]
  },
  {
   "cell_type": "markdown",
   "id": "a87286fa",
   "metadata": {},
   "source": [
    "# Q1:"
   ]
  },
  {
   "cell_type": "code",
   "execution_count": 4,
   "id": "d2ecbe7c",
   "metadata": {},
   "outputs": [
    {
     "name": "stdout",
     "output_type": "stream",
     "text": [
      "((1,), (2,), (3,))\n"
     ]
    }
   ],
   "source": [
    "# convert tuple of value into tuple of singleton tuples\n",
    "t_1 =(1,2,3)\n",
    "tuple =(t_1[0:1],t_1[1:2],t_1[2:])\n",
    "print(tuple)"
   ]
  },
  {
   "cell_type": "markdown",
   "id": "3f225e93",
   "metadata": {},
   "source": [
    "# Q2:"
   ]
  },
  {
   "cell_type": "code",
   "execution_count": 6,
   "id": "da8fd604",
   "metadata": {},
   "outputs": [
    {
     "name": "stdout",
     "output_type": "stream",
     "text": [
      "3\n"
     ]
    }
   ],
   "source": [
    "l1 =[10,40,30,(10,40),50]\n",
    "ctr =0\n",
    "for element in l1:\n",
    "    if type(element) == (tuple):\n",
    "        break\n",
    "    ctr +=1\n",
    "print(ctr)"
   ]
  },
  {
   "cell_type": "markdown",
   "id": "899fb8b4",
   "metadata": {},
   "source": [
    "# Q3:"
   ]
  },
  {
   "cell_type": "code",
   "execution_count": 1,
   "id": "d4148d88",
   "metadata": {},
   "outputs": [
    {
     "name": "stdout",
     "output_type": "stream",
     "text": [
      "(4, 5, 6, 7, 3, 8, 1, 9)\n"
     ]
    }
   ],
   "source": [
    "# add corresponding elements of two given tuples\n",
    "t_1 =(4,5,6,7)\n",
    "u_1 =(3,8,1,9)\n",
    "v =t_1 + u_1\n",
    "print(v)"
   ]
  },
  {
   "cell_type": "markdown",
   "id": "4518a73a",
   "metadata": {},
   "source": [
    "# Q4:"
   ]
  },
  {
   "cell_type": "code",
   "execution_count": 1,
   "id": "d0b74668",
   "metadata": {},
   "outputs": [
    {
     "name": "stdout",
     "output_type": "stream",
     "text": [
      "(6, 18, 24, 15)\n"
     ]
    }
   ],
   "source": [
    "# multiply each integer with tuple\n",
    "t_01 =(2,6,8,5)\n",
    "x =3\n",
    "n =(2*x,6*x,8*x,5*x)\n",
    "print(n)"
   ]
  },
  {
   "cell_type": "markdown",
   "id": "64c7c2e9",
   "metadata": {},
   "source": [
    "# SETS"
   ]
  },
  {
   "cell_type": "markdown",
   "id": "fdbd4d9a",
   "metadata": {},
   "source": [
    "# Q1:"
   ]
  },
  {
   "cell_type": "code",
   "execution_count": 9,
   "id": "b5b434eb",
   "metadata": {},
   "outputs": [
    {
     "name": "stdout",
     "output_type": "stream",
     "text": [
      "True\n",
      "False\n"
     ]
    }
   ],
   "source": [
    "# add unique no. and use in operator\n",
    "st_1 ={2,4,6,8,9}\n",
    "b =4 in st_1\n",
    "print(b)\n",
    "c =5 in st_1\n",
    "print(c)"
   ]
  },
  {
   "cell_type": "markdown",
   "id": "bd5456eb",
   "metadata": {},
   "source": [
    "# Q2:"
   ]
  },
  {
   "cell_type": "code",
   "execution_count": 10,
   "id": "a417c357",
   "metadata": {},
   "outputs": [
    {
     "name": "stdout",
     "output_type": "stream",
     "text": [
      "{1, 2, 3, 4, 5, 7}\n"
     ]
    }
   ],
   "source": [
    "# convert list of integer into list of unique values using set\n",
    "my_lisy =[2,5,4,7,3,1,5]\n",
    "c =set(my_lisy)\n",
    "print(c)"
   ]
  },
  {
   "cell_type": "markdown",
   "id": "95920b1b",
   "metadata": {},
   "source": [
    "# Q3:"
   ]
  },
  {
   "cell_type": "code",
   "execution_count": 1,
   "id": "1a0f9a46",
   "metadata": {},
   "outputs": [],
   "source": [
    "lis_1 =['192.168.0.1','192.168.0.2','192.168.0.3']\n",
    "lis_2 =['192.168.0.3','192.168.0.2', '192.168.0.1']"
   ]
  },
  {
   "cell_type": "code",
   "execution_count": null,
   "id": "774c71a9",
   "metadata": {},
   "outputs": [],
   "source": [
    "# check not even one different ip"
   ]
  },
  {
   "cell_type": "code",
   "execution_count": 2,
   "id": "1442aaae",
   "metadata": {},
   "outputs": [
    {
     "name": "stdout",
     "output_type": "stream",
     "text": [
      "192.168.0.1\n",
      "192.168.0.2\n",
      "192.168.0.3\n"
     ]
    }
   ],
   "source": [
    "for ip_address in lis_1:\n",
    "    print(ip_address)\n",
    "    if ip_address in lis_2:\n",
    "        continue\n",
    "    else:\n",
    "        print(\"Not Found.hence both lists do not contain similar ip address\")"
   ]
  },
  {
   "cell_type": "markdown",
   "id": "50e4aead",
   "metadata": {},
   "source": [
    "# DICTIONARIES"
   ]
  },
  {
   "cell_type": "code",
   "execution_count": 5,
   "id": "b0e91005",
   "metadata": {},
   "outputs": [
    {
     "name": "stdout",
     "output_type": "stream",
     "text": [
      "list of inventory that is available in store\n",
      "chair is available: 10\n",
      "table is available: 22\n",
      "sofa_set is available: 2\n",
      "tv_unit is available: 0\n",
      "fan is available: 10\n",
      "table_lamp is available: 0\n",
      "bed is available: 30\n",
      "iron_box is available: 0\n"
     ]
    }
   ],
   "source": [
    "comm ={'chair' : 10,'table' : 22,'sofa_set': 2,'tv_unit': 0,'fan': 10,'table_lamp': 0,'iron_box': 0,'bed': 30 }\n",
    "price ={'chair': 2365,'table': 37752,'sofa_set': 23299,'tv_unit': 120344,'bed': 40226,'fan':0,'table_lamp':0,'iron_box':0 }\n",
    "\n",
    "# inventory available\n",
    "print(\"list of inventory that is available in store\")\n",
    "\n",
    "print(\"chair is available:\",comm[\"chair\"])\n",
    "print(\"table is available:\",comm[\"table\"])\n",
    "print(\"sofa_set is available:\",comm[\"sofa_set\"])\n",
    "print(\"tv_unit is available:\",comm[\"tv_unit\"])\n",
    "print(\"fan is available:\",comm[\"fan\"])\n",
    "print(\"table_lamp is available:\",comm[\"table_lamp\"])\n",
    "print(\"bed is available:\",comm[\"bed\"])\n",
    "print(\"iron_box is available:\",comm[\"iron_box\"])"
   ]
  },
  {
   "cell_type": "code",
   "execution_count": 6,
   "id": "86ca0120",
   "metadata": {},
   "outputs": [
    {
     "name": "stdout",
     "output_type": "stream",
     "text": [
      "Enter num of chair 7\n",
      "Enter num of table 15\n",
      "Enter num of sofa_set 1\n",
      "Enter num of tv_unit 0\n",
      "Enter num of fan 9\n",
      "Enter num of table_lamp 0\n",
      "Enter num of bed 20\n",
      "Enter num of iron_box 0\n"
     ]
    }
   ],
   "source": [
    "chair =int(input('Enter num of chair '))\n",
    "if chair>comm['chair']:\n",
    "    print('Sorry there is only 10 chair in stock')\n",
    "\n",
    "table =int(input('Enter num of table '))\n",
    "if table>comm['table']:\n",
    "    print('Sorry there is only 22 table in stock')\n",
    "    \n",
    "sofa_set =int(input('Enter num of sofa_set '))\n",
    "if sofa_set>comm['sofa_set']:\n",
    "    print('Sorry there is 2 sofa_set in stock')\n",
    "    \n",
    "tv_unit =int(input('Enter num of tv_unit '))\n",
    "if tv_unit>comm['tv_unit']:\n",
    "    print('Sorry there is only 0 tv_unit in stock')   \n",
    "    \n",
    "fan =int(input('Enter num of fan '))\n",
    "if fan>comm['fan']:\n",
    "    print('Sorry there is only 10 fan in stock')\n",
    "    \n",
    "table_lamp =int(input('Enter num of table_lamp '))\n",
    "if table_lamp>comm['table_lamp']:\n",
    "    print('Sorry there is only 0 table_lamp in stock')    \n",
    "    \n",
    "bed =int(input('Enter num of bed '))\n",
    "if bed>comm['bed']:\n",
    "    print('Sorry there is only 30 bed in stock')    \n",
    "\n",
    "iron_box =int(input('Enter num of iron_box '))\n",
    "if iron_box>comm['iron_box']:\n",
    "    print('Sorry there is only 0 iron_box in stock')    \n",
    "    "
   ]
  },
  {
   "cell_type": "code",
   "execution_count": 7,
   "id": "edf5bf70",
   "metadata": {},
   "outputs": [
    {
     "name": "stdout",
     "output_type": "stream",
     "text": [
      "total_income generated by sold stock is: 1410654\n"
     ]
    }
   ],
   "source": [
    "# evaluate total income\n",
    "t_p1 =price['chair']*chair\n",
    "t_p2 =price['table']*table\n",
    "t_p3 =price['sofa_set']*sofa_set\n",
    "t_p4 =price['tv_unit']*tv_unit\n",
    "t_p5 =price['fan']*fan\n",
    "t_p6 =price['table_lamp']*table_lamp\n",
    "t_p7 =price['bed']*bed\n",
    "t_p8 =price['iron_box']*iron_box\n",
    "total_income =t_p1 + t_p2 + t_p3 + t_p4 + t_p5 + t_p6 + t_p7 + t_p8\n",
    "print('total_income generated by sold stock is:',total_income)"
   ]
  },
  {
   "cell_type": "code",
   "execution_count": 8,
   "id": "023cc273",
   "metadata": {},
   "outputs": [
    {
     "name": "stdout",
     "output_type": "stream",
     "text": [
      "remaining chair 3\n",
      "remaining table 7\n",
      "remaining tv_unit 0\n",
      "remaining sofa_set 1\n",
      "remaining fan 1\n",
      "remaining table_lamp 0\n",
      "remaining bed 10\n",
      "remaining iron_box 0\n"
     ]
    }
   ],
   "source": [
    "x =\"remaining inventory\"\n",
    "rem =comm['chair']-chair\n",
    "print('remaining chair',rem)\n",
    "\n",
    "x =\"remaining inventory\"\n",
    "rem =comm['table']-table\n",
    "print('remaining table',rem)\n",
    "\n",
    "x =\"remaining inventory\"\n",
    "rem =comm['tv_unit']-tv_unit\n",
    "print('remaining tv_unit',rem)\n",
    "\n",
    "x =\"remaining inventory\"\n",
    "rem =comm['sofa_set']-sofa_set\n",
    "print('remaining sofa_set',rem)\n",
    "\n",
    "x =\"remaining inventory\"\n",
    "rem =comm['fan']-fan\n",
    "print('remaining fan',rem)\n",
    "\n",
    "x =\"remaining inventory\"\n",
    "rem =comm['table_lamp']-table_lamp\n",
    "print('remaining table_lamp',rem)\n",
    "\n",
    "x =\"remaining inventory\"\n",
    "rem =comm['bed']-bed\n",
    "print('remaining bed',rem)\n",
    "\n",
    "x =\"remaining inventory\"\n",
    "rem =comm['iron_box']-iron_box\n",
    "print('remaining iron_box',rem)"
   ]
  }
 ],
 "metadata": {
  "kernelspec": {
   "display_name": "Python 3 (ipykernel)",
   "language": "python",
   "name": "python3"
  },
  "language_info": {
   "codemirror_mode": {
    "name": "ipython",
    "version": 3
   },
   "file_extension": ".py",
   "mimetype": "text/x-python",
   "name": "python",
   "nbconvert_exporter": "python",
   "pygments_lexer": "ipython3",
   "version": "3.9.12"
  }
 },
 "nbformat": 4,
 "nbformat_minor": 5
}
