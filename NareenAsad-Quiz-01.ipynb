{
 "cells": [
  {
   "cell_type": "markdown",
   "id": "d1b30dd9",
   "metadata": {},
   "source": [
    "# Q1:"
   ]
  },
  {
   "cell_type": "code",
   "execution_count": 1,
   "id": "17eaf96a",
   "metadata": {},
   "outputs": [
    {
     "data": {
      "text/plain": [
       "'I am studying hard to learn AI and BD'"
      ]
     },
     "execution_count": 1,
     "metadata": {},
     "output_type": "execute_result"
    }
   ],
   "source": [
    "str_ing =\"I am studying hard to learn AI and BD\"\n",
    "str_ing"
   ]
  },
  {
   "cell_type": "code",
   "execution_count": 8,
   "id": "7d9dc61d",
   "metadata": {},
   "outputs": [
    {
     "name": "stdout",
     "output_type": "stream",
     "text": [
      "studying learn and \n"
     ]
    }
   ],
   "source": [
    "str_ing[5:14]\n",
    "str_ing[22:28]\n",
    "str_ing[31:35]\n",
    "z =str_ing[5:14]+''+str_ing[22:28]+''+str_ing[31:35]\n",
    "print(z)"
   ]
  },
  {
   "cell_type": "markdown",
   "id": "f87bc8a7",
   "metadata": {},
   "source": [
    "# Q2:"
   ]
  },
  {
   "cell_type": "code",
   "execution_count": 16,
   "id": "3b31ca78",
   "metadata": {},
   "outputs": [
    {
     "name": "stdout",
     "output_type": "stream",
     "text": [
      "Enter a value in kilogram:10\n",
      "22.046\n"
     ]
    }
   ],
   "source": [
    "data =int(input(\"Enter a value in kilogram:\"))\n",
    "pound =float(data * 2.2046)\n",
    "print(pound)"
   ]
  },
  {
   "cell_type": "code",
   "execution_count": 4,
   "id": "3d89f106",
   "metadata": {},
   "outputs": [
    {
     "name": "stdout",
     "output_type": "stream",
     "text": [
      "Enter value in kg or done for quit:20\n",
      "20.0Kg in Pounds are:44.092\n",
      "Enter value in kg or done for quit:done\n",
      "Thank you\n"
     ]
    }
   ],
   "source": [
    "while True:\n",
    "    data =input(\"Enter value in kg or done for quit:\")\n",
    "    if data=='done':\n",
    "        print(\"Thank you\")\n",
    "        break\n",
    "        \n",
    "    data =float(data)\n",
    "    pounds =data * 2.2046\n",
    "    print(str(data)+\"Kg in Pounds are:\"+str(pounds))"
   ]
  },
  {
   "cell_type": "markdown",
   "id": "255dc2ab",
   "metadata": {},
   "source": [
    "# Q3:"
   ]
  },
  {
   "cell_type": "code",
   "execution_count": 22,
   "id": "8a7804c3",
   "metadata": {},
   "outputs": [
    {
     "name": "stdout",
     "output_type": "stream",
     "text": [
      "Enter obtained marks: 32\n",
      "Failed\n"
     ]
    }
   ],
   "source": [
    "obtain_marks =int(input(\"Enter obtained marks: \"))\n",
    "\n",
    "if obtain_marks > 50:\n",
    "    print(\"Passed\")\n",
    "else:\n",
    "    print(\"Failed\")"
   ]
  },
  {
   "cell_type": "code",
   "execution_count": 5,
   "id": "4e3f9b8e",
   "metadata": {},
   "outputs": [
    {
     "name": "stdout",
     "output_type": "stream",
     "text": [
      "Enter obtained marks or done for quit: 46\n",
      "Failed\n",
      "Enter obtained marks or done for quit: done\n",
      "Thank you\n"
     ]
    }
   ],
   "source": [
    "while True:\n",
    "    obtain_marks =input(\"Enter obtained marks or done for quit: \")\n",
    "    if obtain_marks=='done':\n",
    "        print(\"Thank you\")\n",
    "        break\n",
    "        \n",
    "    obtain_marks =float(obtain_marks)\n",
    "    if obtain_marks > 50:\n",
    "        print(\"Passed\")\n",
    "    else:\n",
    "        print(\"Failed\")"
   ]
  },
  {
   "cell_type": "markdown",
   "id": "a3010651",
   "metadata": {},
   "source": [
    "# Q4:"
   ]
  },
  {
   "cell_type": "code",
   "execution_count": 6,
   "id": "e4117a56",
   "metadata": {},
   "outputs": [
    {
     "name": "stdout",
     "output_type": "stream",
     "text": [
      "weight: 66.67\n",
      "bmi: 12.2\n",
      "height: 6\n",
      "marital status: unmarried\n",
      "Selected\n"
     ]
    }
   ],
   "source": [
    "weight = float(input(\"weight: \"))\n",
    "bmi = float(input(\"bmi: \"))\n",
    "height = float(input(\"height: \"))\n",
    "status = input(\"marital status: \")\n",
    "\n",
    "con1 =((weight>=50 and weight<=100)and(bmi>10 and bmi<20)and(height>5))\n",
    "con2 =((weight>100 and status==\"married\")or(bmi>20 and status==\"married\")or(height<5 and status==\"married\"))\n",
    "\n",
    "if con1 or con2:\n",
    "    print(\"Selected\")\n",
    "else:\n",
    "    print(\"Not Selected\")"
   ]
  },
  {
   "cell_type": "markdown",
   "id": "6d3a83f9",
   "metadata": {},
   "source": [
    "# Q5:"
   ]
  },
  {
   "cell_type": "code",
   "execution_count": 129,
   "id": "24c228c9",
   "metadata": {},
   "outputs": [
    {
     "name": "stdout",
     "output_type": "stream",
     "text": [
      "Abdullah Waheed Basim\n"
     ]
    }
   ],
   "source": [
    "list_of_names =['Abdullah', 'Tayyaba', 'Waheed', 'Fatima', 'Basim', 'Hira']\n",
    "\n",
    "male_of_list=list_of_names[0]+' '+list_of_names[2]+' '+list_of_names[4]\n",
    "print(male_of_list)"
   ]
  },
  {
   "cell_type": "code",
   "execution_count": 131,
   "id": "7834e79a",
   "metadata": {},
   "outputs": [
    {
     "name": "stdout",
     "output_type": "stream",
     "text": [
      "Tayyaba Fatima Hira\n"
     ]
    }
   ],
   "source": [
    "female_of_list=list_of_names[1]+' '+list_of_names[3]+' '+list_of_names[5]\n",
    "print(female_of_list)"
   ]
  },
  {
   "cell_type": "code",
   "execution_count": 7,
   "id": "da9f5078",
   "metadata": {},
   "outputs": [
    {
     "name": "stdout",
     "output_type": "stream",
     "text": [
      "['Abdullah', 'Waheed', 'Basim']\n",
      "['Tayyaba', 'Fatima', 'Hira']\n"
     ]
    }
   ],
   "source": [
    "list_of_names =['Abdullah', 'Tayyaba', 'Waheed', 'Fatima', 'Basim', 'Hira']\n",
    "\n",
    "female =[]\n",
    "male =[]\n",
    "\n",
    "for i in range(len(list_of_names)):\n",
    "    if i%2==0:\n",
    "        female.append(list_of_names[i])\n",
    "    else:\n",
    "        male.append(list_of_names[i])\n",
    "        \n",
    "print(female)\n",
    "print(male)"
   ]
  },
  {
   "cell_type": "markdown",
   "id": "b46ebe8b",
   "metadata": {},
   "source": [
    "# Q6:"
   ]
  },
  {
   "cell_type": "code",
   "execution_count": 9,
   "id": "607c689c",
   "metadata": {},
   "outputs": [
    {
     "name": "stdout",
     "output_type": "stream",
     "text": [
      "3 strings of size 5 are found\n",
      "The strings are:  ['bilal', 'ahmad', 'hasan']\n",
      "5 strings of size 6 are found\n",
      "The strings are:  ['tokeyo', 'fatima', 'yasmin', 'multan', 'goreyo']\n"
     ]
    }
   ],
   "source": [
    "char={\"hasan\", \"ahmad\", \"bilal\", \"goreyo\", \"tokeyo\", \"multan\", \"fatima\", \"yasmin\"}\n",
    "\n",
    "le_ngth = set() \n",
    "for name in char:\n",
    "    if len(name) in le_ngth:\n",
    "        continue\n",
    "    else:\n",
    "        le_ngth = le_ngth.union({len(name)}) \n",
    "        \n",
    "        similar = []\n",
    "        for n in char: \n",
    "            if len(name)==len(n): \n",
    "                similar.append(n)\n",
    "        \n",
    "        print(f\"{len(similar)} strings of size {len(similar[0])} are found\")\n",
    "        print(\"The strings are: \", similar)"
   ]
  },
  {
   "cell_type": "markdown",
   "id": "59c67631",
   "metadata": {},
   "source": [
    "# Q7:"
   ]
  },
  {
   "cell_type": "code",
   "execution_count": 10,
   "id": "ecf08905",
   "metadata": {},
   "outputs": [
    {
     "name": "stdout",
     "output_type": "stream",
     "text": [
      "1 for data entry,2 for data retieval,3 for quit: 1\n",
      "Roll No:  1\n",
      "Ur Marks:  78\n",
      "Eng Marks: 79\n",
      "Py Marks:  80\n",
      "1 for data entry,2 for data retieval,3 for quit: 1\n",
      "Roll No:  2\n",
      "Ur Marks:  67\n",
      "Eng Marks: 69\n",
      "Py Marks:  79\n",
      "1 for data entry,2 for data retieval,3 for quit: 2\n",
      "Roll No:  1\n",
      "Subject Name (urdu, english or python):  urdu\n",
      "78\n",
      "1 for data entry,2 for data retieval,3 for quit: 2\n",
      "Roll No:  3\n",
      "Subject Name (urdu, english or python):  python\n",
      "1 for data entry,2 for data retieval,3 for quit: 3\n",
      "Thank You for using the service\n"
     ]
    }
   ],
   "source": [
    "while True:\n",
    "    choice = input(\"1 for data entry,2 for data retieval,3 for quit: \")\n",
    "    if choice=='1':\n",
    "        roll = input(\"Roll No:  \")\n",
    "        urd = input(\"Ur Marks:  \")\n",
    "        eng = input(\"Eng Marks: \")\n",
    "        pyt = input(\"Py Marks:  \")\n",
    "        data = {roll : {'urdu':urd, 'english':eng, 'python': pyt}}\n",
    "        try:\n",
    "            file = open(\"data.txt\", \"a\", encoding='utf-8')\n",
    "            file.write(str(data)+\"\\n\")\n",
    "            file.close()\n",
    "        except Exception as e:\n",
    "            print(\"File could not be created\")\n",
    "            continue\n",
    "            \n",
    "    elif choice=='2':\n",
    "        try:\n",
    "            roll = input(\"Roll No:  \")\n",
    "            subject = input(\"Subject Name (urdu, english or python):  \")\n",
    "            \n",
    "            file = open(\"data.txt\", \"r\", encoding='utf-8')\n",
    "            for line in file:\n",
    "                line = eval(line)\n",
    "                if roll in line.keys():\n",
    "                    print(line[roll][subject])\n",
    "                    break\n",
    "                    \n",
    "            file.close()\n",
    "            \n",
    "        except FileNotFoundError:\n",
    "            print(\"No file found having this name.\")\n",
    "    \n",
    "    elif choice=='3':\n",
    "        print(\"Thank You for using the service\")\n",
    "        break\n",
    "        \n",
    "    else:\n",
    "        print(\"Wrong Input. Try Again later\")       "
   ]
  }
 ],
 "metadata": {
  "kernelspec": {
   "display_name": "Python 3 (ipykernel)",
   "language": "python",
   "name": "python3"
  },
  "language_info": {
   "codemirror_mode": {
    "name": "ipython",
    "version": 3
   },
   "file_extension": ".py",
   "mimetype": "text/x-python",
   "name": "python",
   "nbconvert_exporter": "python",
   "pygments_lexer": "ipython3",
   "version": "3.9.12"
  }
 },
 "nbformat": 4,
 "nbformat_minor": 5
}
