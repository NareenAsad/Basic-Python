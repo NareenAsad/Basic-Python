{
 "cells": [
  {
   "cell_type": "markdown",
   "id": "e67fc21a",
   "metadata": {},
   "source": [
    "# Function"
   ]
  },
  {
   "cell_type": "markdown",
   "id": "d5b0cf62",
   "metadata": {},
   "source": [
    "# Q1:"
   ]
  },
  {
   "cell_type": "code",
   "execution_count": 10,
   "id": "fb0c57a0",
   "metadata": {},
   "outputs": [
    {
     "name": "stdout",
     "output_type": "stream",
     "text": [
      "Average is 1.0\n"
     ]
    }
   ],
   "source": [
    "def cal_average(num):\n",
    "    sum_num=0\n",
    "    for t in num:\n",
    "        sum_num =sum_num + 1\n",
    "        \n",
    "    avg =sum_num/ len(num)\n",
    "    return avg\n",
    "\n",
    "print(\"Average is\",cal_average([12,45,33,2]))"
   ]
  },
  {
   "cell_type": "markdown",
   "id": "f4ab84f7",
   "metadata": {},
   "source": [
    "# Q2:"
   ]
  },
  {
   "cell_type": "code",
   "execution_count": 3,
   "id": "7393b23d",
   "metadata": {},
   "outputs": [],
   "source": [
    "def isin(string,substring):\n",
    "    \"\"\"\n",
    "    This function perform a program that return a value of true if the string\n",
    "    contains a substring in it\n",
    "    \"\"\"\n",
    "    for i in range(len(string)):\n",
    "        print(string[i:len(substring)+i])\n",
    "    if string[i:len(substring)+i]== substring:\n",
    "    \n",
    "        print(\"Substring Found\")\n",
    "        return"
   ]
  },
  {
   "cell_type": "code",
   "execution_count": 5,
   "id": "6b6a6057",
   "metadata": {},
   "outputs": [
    {
     "name": "stdout",
     "output_type": "stream",
     "text": [
      "Nareen\n",
      "areen \n",
      "reen A\n",
      "een As\n",
      "en Asa\n",
      "n Asad\n",
      " Asad\n",
      "Asad\n",
      "sad\n",
      "ad\n",
      "d\n"
     ]
    }
   ],
   "source": [
    "isin(\"Nareen Asad\",\"Nareen\")"
   ]
  },
  {
   "cell_type": "markdown",
   "id": "6ca9b7bf",
   "metadata": {},
   "source": [
    "# Q3:"
   ]
  },
  {
   "cell_type": "code",
   "execution_count": 14,
   "id": "d31eeaef",
   "metadata": {},
   "outputs": [
    {
     "name": "stdout",
     "output_type": "stream",
     "text": [
      "Name:  Nareen\n",
      "Age:  19\n"
     ]
    }
   ],
   "source": [
    "def info(name,age):\n",
    "    print(\"Name: \",name)\n",
    "    print(\"Age: \",age)\n",
    "    return\n",
    "info(name =\"Nareen\",age =19)"
   ]
  },
  {
   "cell_type": "markdown",
   "id": "f09217d1",
   "metadata": {},
   "source": [
    "# Q4:"
   ]
  },
  {
   "cell_type": "code",
   "execution_count": 1,
   "id": "6c316b33",
   "metadata": {},
   "outputs": [
    {
     "name": "stdout",
     "output_type": "stream",
     "text": [
      "15\n"
     ]
    }
   ],
   "source": [
    "def num1(x):\n",
    "    def num2(y):\n",
    "        return x + y\n",
    "    return num2\n",
    "\n",
    "print(num1(10)(5))"
   ]
  },
  {
   "cell_type": "markdown",
   "id": "5d21c376",
   "metadata": {},
   "source": [
    "# File Handling"
   ]
  },
  {
   "cell_type": "markdown",
   "id": "db050dbc",
   "metadata": {},
   "source": [
    "# Q1:"
   ]
  },
  {
   "cell_type": "code",
   "execution_count": 2,
   "id": "bdc5e312",
   "metadata": {},
   "outputs": [
    {
     "name": "stdout",
     "output_type": "stream",
     "text": [
      "Press 1 for data entry and 2nd for retrivel or done for quit: 1\n",
      "Enter your name: nareen\n",
      "Enter cnic: 4\n",
      "Enter date of birth: 2002\n",
      "Enter your hobbies: cricket\n",
      "Enter your occuption: student\n",
      "Enter your residential address: house123\n",
      "Press 1 for data entry and 2nd for retrivel or done for quit: 1\n",
      "Enter your name: eshal\n",
      "Enter cnic: 5\n",
      "Enter date of birth: 2010\n",
      "Enter your hobbies: reading\n",
      "Enter your occuption: student\n",
      "Enter your residential address: house546\n",
      "Press 1 for data entry and 2nd for retrivel or done for quit: 2nd\n",
      "Enter cnic4\n",
      "{'name': 'nareen', 'dob': '2002', 'hobbies': 'cricket', 'occuption': 'student', 'address': 'house123'}\n",
      "Press 1 for data entry and 2nd for retrivel or done for quit: 2nd\n",
      "Enter cnic5\n",
      "{'name': 'eshal', 'dob': '2010', 'hobbies': 'reading', 'occuption': 'student', 'address': 'house546'}\n",
      "Press 1 for data entry and 2nd for retrivel or done for quit: done\n"
     ]
    }
   ],
   "source": [
    "while True:\n",
    "    choice =input('Press 1 for data entry and 2nd for retrivel or done for quit: ')\n",
    "    if choice=='1':\n",
    "        name=input(\"Enter your name: \")\n",
    "        cnic=input(\"Enter cnic: \")\n",
    "        dob=input(\"Enter date of birth: \")\n",
    "        hobbies=input(\"Enter your hobbies: \")\n",
    "        occuption=input(\"Enter your occuption: \")\n",
    "        address=input(\"Enter your residential address: \")\n",
    "        record={cnic:{'name':name,'dob':dob,'hobbies':hobbies,'occuption':occuption,'address':address}}\n",
    "        file=open('data2.txt','a')\n",
    "        file.write(str(record)+\"\\n\")\n",
    "        file.close()\n",
    "        \n",
    "    elif choice=='done':\n",
    "        break\n",
    "    elif choice=='2nd':\n",
    "        with open('data2.txt',\"r\")as file:\n",
    "            data=[]\n",
    "            for line in file.readlines():\n",
    "                line=eval(line) # evaluate line\n",
    "                data.append(line)\n",
    "                \n",
    "        entered_cnic=input(\"Enter cnic\")\n",
    "        for record in data:\n",
    "            if entered_cnic in record.keys():\n",
    "                print(record[entered_cnic])\n",
    "                break\n",
    "                \n",
    "    else:\n",
    "        print(\"Wrong input\")"
   ]
  },
  {
   "cell_type": "markdown",
   "id": "0429cc36",
   "metadata": {},
   "source": [
    "# Q2:"
   ]
  },
  {
   "cell_type": "code",
   "execution_count": 2,
   "id": "2855f9cc",
   "metadata": {},
   "outputs": [
    {
     "name": "stdout",
     "output_type": "stream",
     "text": [
      "['are', 'sentences', 'that', 'or', 'may', 'paragraph', 'what', 'set', 'to', 'really', 'so', 'of', 'is', 'one', 'a', 'story,', 'you', 'the', 'describe', 'many', 'in', 'those', 'as', 'things']\n"
     ]
    }
   ],
   "source": [
    "file =open('my_file.txt','a', encoding='utf-8')\n",
    "file =open('my_file.txt','r', encoding='utf-8')\n",
    "\n",
    "data =file.read()\n",
    "file.close()\n",
    "\n",
    "all_words =data.split(\" \")\n",
    "unique =set(all_words)\n",
    "repeated_words =[]\n",
    "\n",
    "for word in unique:\n",
    "    word_count =0\n",
    "    for i in all_words:\n",
    "        if word==i:\n",
    "            word_count =word_count + 1\n",
    "            if word_count > 1:\n",
    "                repeated_words.append(word)\n",
    "                break\n",
    "                \n",
    "print(repeated_words)"
   ]
  },
  {
   "cell_type": "markdown",
   "id": "b35659e2",
   "metadata": {},
   "source": [
    "# Q3:"
   ]
  },
  {
   "cell_type": "code",
   "execution_count": 3,
   "id": "b52dbf8d",
   "metadata": {},
   "outputs": [
    {
     "name": "stdout",
     "output_type": "stream",
     "text": [
      "1 Essay” is a loose term for writing that asserts the author’s opinion on a topic, whether academic, editorial, or even humorous.\n",
      "\n",
      "2 There are a thousand different approaches to essay writing and a million different topics to choose from,\n",
      "\n",
      "3 but what we’ve found is that good essay writing tends to follow the same framework.\n"
     ]
    }
   ],
   "source": [
    "open_file = open('file.txt','r', encoding='utf-8')\n",
    "lines =open_file.readlines()\n",
    "for i in range(len(lines)):\n",
    "    line= (str(i+1)+\" \"+lines[i])\n",
    "    print(line)\n",
    "open_file.close()    "
   ]
  },
  {
   "cell_type": "markdown",
   "id": "8164d649",
   "metadata": {},
   "source": [
    "# Exception Handling"
   ]
  },
  {
   "cell_type": "markdown",
   "id": "c174f863",
   "metadata": {},
   "source": [
    "# Q1:"
   ]
  },
  {
   "cell_type": "code",
   "execution_count": 7,
   "id": "5e3cf7da",
   "metadata": {},
   "outputs": [
    {
     "name": "stdout",
     "output_type": "stream",
     "text": [
      "Value Error:could not convert string into float\n"
     ]
    }
   ],
   "source": [
    "# value error\n",
    "try:\n",
    "    print(float('Intelligence'))\n",
    "except:\n",
    "    print('Value Error:could not convert string into float')\n",
    "else:\n",
    "    print('No error')      \n",
    "          "
   ]
  },
  {
   "cell_type": "code",
   "execution_count": 8,
   "id": "32dc23a5",
   "metadata": {},
   "outputs": [
    {
     "name": "stdout",
     "output_type": "stream",
     "text": [
      "Index Error Occur,list index out of range\n"
     ]
    }
   ],
   "source": [
    "# index error\n",
    "try:\n",
    "    alpha =[1,3,5,6]\n",
    "    print(alpha[5])\n",
    "except:\n",
    "    print(\"Index Error Occur,list index out of range\")\n",
    "else:\n",
    "    print('No error')"
   ]
  },
  {
   "cell_type": "code",
   "execution_count": 9,
   "id": "e8a79ad0",
   "metadata": {},
   "outputs": [
    {
     "name": "stdout",
     "output_type": "stream",
     "text": [
      "Name Error:name 'design' is not defined\n"
     ]
    }
   ],
   "source": [
    "# name error\n",
    "try:\n",
    "    print(design)\n",
    "except:\n",
    "    print(\"Name Error:name 'design' is not defined\")\n",
    "else:\n",
    "    print('No error')"
   ]
  }
 ],
 "metadata": {
  "kernelspec": {
   "display_name": "Python 3",
   "language": "python",
   "name": "python3"
  },
  "language_info": {
   "codemirror_mode": {
    "name": "ipython",
    "version": 3
   },
   "file_extension": ".py",
   "mimetype": "text/x-python",
   "name": "python",
   "nbconvert_exporter": "python",
   "pygments_lexer": "ipython3",
   "version": "3.8.8"
  }
 },
 "nbformat": 4,
 "nbformat_minor": 5
}
