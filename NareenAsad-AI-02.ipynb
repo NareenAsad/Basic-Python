{
 "cells": [
  {
   "cell_type": "markdown",
   "id": "744db2e5",
   "metadata": {},
   "source": [
    "# Q1:"
   ]
  },
  {
   "cell_type": "code",
   "execution_count": 34,
   "id": "214e96ca",
   "metadata": {},
   "outputs": [
    {
     "name": "stdout",
     "output_type": "stream",
     "text": [
      "Enter any number: 11\n",
      "Positive number\n"
     ]
    }
   ],
   "source": [
    "num =float(input(\"Enter any number: \"))\n",
    "if num > 0:\n",
    "    print(\"Positive number\")\n",
    "elif num == 0:\n",
    "    print(\"Zero\")\n",
    "else:\n",
    "    print(\"Negative number\")"
   ]
  },
  {
   "cell_type": "code",
   "execution_count": 35,
   "id": "fc59b4f3",
   "metadata": {},
   "outputs": [
    {
     "name": "stdout",
     "output_type": "stream",
     "text": [
      "Enter any number: -5\n",
      "Negative number\n"
     ]
    }
   ],
   "source": [
    "num =float(input(\"Enter any number: \"))\n",
    "if num > 0:\n",
    "    print(\"Positive number\")\n",
    "elif num == 0:\n",
    "    print(\"Zero\")\n",
    "else:\n",
    "    print(\"Negative number\")"
   ]
  },
  {
   "cell_type": "markdown",
   "id": "0d2d1102",
   "metadata": {},
   "source": [
    "# Q2:"
   ]
  },
  {
   "cell_type": "code",
   "execution_count": 28,
   "id": "bcc8ff24",
   "metadata": {},
   "outputs": [
    {
     "name": "stdout",
     "output_type": "stream",
     "text": [
      "Enter a number: 45\n",
      "45 is Odd\n"
     ]
    }
   ],
   "source": [
    "num =int(input(\"Enter a number: \"))\n",
    "if (num % 2) == 0:\n",
    "    print(\"{0} is Even\".format(num))\n",
    "else:\n",
    "    print(\"{0} is Odd\".format(num))"
   ]
  },
  {
   "cell_type": "code",
   "execution_count": 29,
   "id": "6ef9c486",
   "metadata": {},
   "outputs": [
    {
     "name": "stdout",
     "output_type": "stream",
     "text": [
      "Enter a number: 2\n",
      "2 is Even\n"
     ]
    }
   ],
   "source": [
    "num =int(input(\"Enter a number: \"))\n",
    "if (num % 2) == 0:\n",
    "    print(\"{0} is Even\".format(num))\n",
    "else:\n",
    "    print(\"{0} is Odd\".format(num))"
   ]
  },
  {
   "cell_type": "markdown",
   "id": "20cae4df",
   "metadata": {},
   "source": [
    "# Q3:"
   ]
  },
  {
   "cell_type": "code",
   "execution_count": 34,
   "id": "eb89bd3a",
   "metadata": {},
   "outputs": [
    {
     "name": "stdout",
     "output_type": "stream",
     "text": [
      "Enter max number: 20\n",
      "Enter min number: 0\n"
     ]
    }
   ],
   "source": [
    "max_num =int(input(\"Enter max number: \"))\n",
    "min_num =int(input(\"Enter min number: \"))\n",
    "\n",
    "even =[]\n",
    "odd =[]\n",
    "\n",
    "for num in range(min_num,max_num):\n",
    "    if num % 2 == 0: # check if it is even\n",
    "        even.append(num)\n",
    "    else: # check if it is odd\n",
    "        odd.append(num) "
   ]
  },
  {
   "cell_type": "code",
   "execution_count": 35,
   "id": "95d0f266",
   "metadata": {},
   "outputs": [
    {
     "name": "stdout",
     "output_type": "stream",
     "text": [
      "[0, 2, 4, 6, 8, 10, 12, 14, 16, 18]\n",
      "[1, 3, 5, 7, 9, 11, 13, 15, 17, 19]\n"
     ]
    }
   ],
   "source": [
    "print(even)\n",
    "print(odd)"
   ]
  },
  {
   "cell_type": "markdown",
   "id": "4c487d18",
   "metadata": {},
   "source": [
    "# Q4:"
   ]
  },
  {
   "cell_type": "code",
   "execution_count": 15,
   "id": "eb80a7fd",
   "metadata": {},
   "outputs": [
    {
     "name": "stdout",
     "output_type": "stream",
     "text": [
      "Enter the character: .\n",
      "Given character is punctuation\n"
     ]
    }
   ],
   "source": [
    "n_m0 =input(\"Enter the character: \")\n",
    "if n_m0.isdigit():\n",
    "    print(\"Given character is digit\")\n",
    "elif n_m0.isalpha():\n",
    "    print(\"Given character is alphabet\")\n",
    "else:\n",
    "    print(\"Given character is punctuation\")"
   ]
  },
  {
   "cell_type": "markdown",
   "id": "f9f9234c",
   "metadata": {},
   "source": [
    "# Q5:"
   ]
  },
  {
   "cell_type": "code",
   "execution_count": 4,
   "id": "31b5cf93",
   "metadata": {},
   "outputs": [
    {
     "name": "stdout",
     "output_type": "stream",
     "text": [
      "Enter a letter of the alphabet: v\n",
      "The given letter is consonant\n"
     ]
    }
   ],
   "source": [
    "jkl =input(\"Enter a letter of the alphabet: \")\n",
    "\n",
    "if jkl in ('a', 'e', 'i', 'o', 'u'):\n",
    "    print(\"The given letter is vowel\")\n",
    "else:\n",
    "    print(\"The given letter is consonant\")"
   ]
  },
  {
   "cell_type": "markdown",
   "id": "92b4e335",
   "metadata": {},
   "source": [
    "# Q6:"
   ]
  },
  {
   "cell_type": "code",
   "execution_count": 48,
   "id": "4b5c2add",
   "metadata": {},
   "outputs": [
    {
     "name": "stdout",
     "output_type": "stream",
     "text": [
      "vowels: 3\n",
      "consonant: 3\n"
     ]
    }
   ],
   "source": [
    "N =\"Nareen\"\n",
    "vowels =['a','e','i','o','u']\n",
    "vowels_count =0\n",
    "for character in N:\n",
    "    if character in vowels:\n",
    "        vowels_count =vowels_count + 1\n",
    "print(\"vowels:\",vowels_count)\n",
    "consonant =len(N)-vowels_count\n",
    "print(\"consonant:\",consonant)"
   ]
  },
  {
   "cell_type": "markdown",
   "id": "8e4c3c82",
   "metadata": {},
   "source": [
    "# Q7:"
   ]
  },
  {
   "cell_type": "code",
   "execution_count": 6,
   "id": "c43b6201",
   "metadata": {},
   "outputs": [
    {
     "name": "stdout",
     "output_type": "stream",
     "text": [
      "Enter the number: 7\n",
      "It is prime\n"
     ]
    }
   ],
   "source": [
    "num =int(input(\"Enter the number: \"))\n",
    "is_prime =True\n",
    "if num > 1:\n",
    "    for i in range(2, num):\n",
    "        if (num % i == 0): # no. is divisible by i is equal to 0\n",
    "    print(num,\"The number is not prime\")\n",
    "            is_prime =False\n",
    "            break\n",
    "if is_prime: print(\"It is prime\")"
   ]
  },
  {
   "cell_type": "markdown",
   "id": "9d18ae0c",
   "metadata": {},
   "source": [
    "# Q8:"
   ]
  },
  {
   "cell_type": "code",
   "execution_count": 25,
   "id": "3e9879ab",
   "metadata": {},
   "outputs": [
    {
     "name": "stdout",
     "output_type": "stream",
     "text": [
      "Enter number: 20\n",
      "2\n",
      "3\n",
      "5\n",
      "7\n",
      "11\n",
      "13\n",
      "17\n",
      "19\n"
     ]
    }
   ],
   "source": [
    "start_val =1\n",
    "n =int(input(\"Enter number: \")) # take input from user and stored in variable\n",
    "for num in range(start_val,n+1): # loop used for dividing input \n",
    "    if (num>1):\n",
    "        for i in range(2,num): # by all no.in range of 2 to no.\n",
    "            if (num%i)==0: # check whether there is any +ve divisor other than itself\n",
    "                break\n",
    "        else:\n",
    "            print(num)"
   ]
  },
  {
   "cell_type": "markdown",
   "id": "1bc03ce3",
   "metadata": {},
   "source": [
    "# Q9:"
   ]
  },
  {
   "cell_type": "code",
   "execution_count": 4,
   "id": "82d1574c",
   "metadata": {},
   "outputs": [
    {
     "name": "stdout",
     "output_type": "stream",
     "text": [
      "Enter the year: 2002\n",
      "This year is not a leap year\n"
     ]
    }
   ],
   "source": [
    "year =int(input(\"Enter the year: \")) \n",
    "if ((year % 4 == 0 and year % 100 != 0) or year % 400 == 0): # check condition\n",
    "     print(\"This is a leap year\")\n",
    "else:\n",
    "    print(\"This year is not a leap year\") # check year is divisible by 4 but not 100\n"
   ]
  },
  {
   "cell_type": "markdown",
   "id": "dd0e9019",
   "metadata": {},
   "source": [
    "# Q10:"
   ]
  },
  {
   "cell_type": "code",
   "execution_count": 2,
   "id": "4f565a3d",
   "metadata": {},
   "outputs": [
    {
     "name": "stdout",
     "output_type": "stream",
     "text": [
      "Enter your string: ali\n",
      "Not palindrome\n"
     ]
    }
   ],
   "source": [
    "str =input(\"Enter your string: \")\n",
    "\n",
    "backwards =\"\"\n",
    "for char in str:\n",
    "    backwards =char + backwards\n",
    "    \n",
    "if str==backwards:\n",
    "    print(\"Palindrome\")\n",
    "else:\n",
    "    print(\"Not palindrome\")"
   ]
  },
  {
   "cell_type": "markdown",
   "id": "5238e439",
   "metadata": {},
   "source": [
    "# Q11:"
   ]
  },
  {
   "cell_type": "code",
   "execution_count": 6,
   "id": "ed47dcdc",
   "metadata": {},
   "outputs": [
    {
     "name": "stdout",
     "output_type": "stream",
     "text": [
      "Enter the number: 6\n",
      "The factorial of 6 is 720\n"
     ]
    }
   ],
   "source": [
    "fact =1 # initialy i take fact is equal to one\n",
    "num =int(input(\"Enter the number: \")) # take variable to read numbers from user\n",
    "org =num\n",
    "while num > 0:\n",
    "    fact =fact*num\n",
    "    num =num - 1 # decrement num by one\n",
    "print(\"The factorial of\",org,\"is\",fact)    "
   ]
  },
  {
   "cell_type": "markdown",
   "id": "0967e035",
   "metadata": {},
   "source": [
    "# Q12:"
   ]
  },
  {
   "cell_type": "code",
   "execution_count": 7,
   "id": "2061e0fd",
   "metadata": {},
   "outputs": [
    {
     "name": "stdout",
     "output_type": "stream",
     "text": [
      "Enter number of terms needed in fibonacci series:20\n",
      "0 1 1 2 3 5 8 13 21 34 55 89 144 233 377 610 987 1597 2584 4181 "
     ]
    }
   ],
   "source": [
    "n =int(input(\"Enter number of terms needed in fibonacci series:\"))    \n",
    "f1, f2 =0, 1\n",
    "if n == 1:\n",
    "    print(f1)\n",
    "elif n == 2:\n",
    "     print(f1,f2)\n",
    "else:\n",
    "     print(f1,f2, end = ' ')\n",
    "     for i in range(3, n+1):\n",
    "        f3 = f1 + f2\n",
    "        print(f3, end = ' ')\n",
    "        f1 = f2\n",
    "        f2 = f3"
   ]
  },
  {
   "cell_type": "markdown",
   "id": "dcef0eae",
   "metadata": {},
   "source": [
    "# Q13:"
   ]
  },
  {
   "cell_type": "code",
   "execution_count": 44,
   "id": "4564e1a3",
   "metadata": {},
   "outputs": [
    {
     "name": "stdout",
     "output_type": "stream",
     "text": [
      "Enter the marks: 50\n",
      "Grade: C\n"
     ]
    }
   ],
   "source": [
    "per_marks =float(input(\"Enter the marks: \"))\n",
    "if per_marks >= 80:\n",
    "    print(\"Grade: A\")\n",
    "elif per_marks >= 60:\n",
    "    print(\"Grade: B\")\n",
    "elif per_marks >=40:\n",
    "    print(\"Grade: C\")\n",
    "else:\n",
    "    print(\"Grade: D\")"
   ]
  },
  {
   "cell_type": "markdown",
   "id": "b71da8e4",
   "metadata": {},
   "source": [
    "# Q14:"
   ]
  },
  {
   "cell_type": "code",
   "execution_count": 1,
   "id": "2df0fe41",
   "metadata": {},
   "outputs": [
    {
     "name": "stdout",
     "output_type": "stream",
     "text": [
      "Enter point having three axis: 23,45,66\n"
     ]
    }
   ],
   "source": [
    "po_int =input(\"Enter point having three axis: \")"
   ]
  },
  {
   "cell_type": "code",
   "execution_count": 2,
   "id": "3dbb6aca",
   "metadata": {},
   "outputs": [
    {
     "data": {
      "text/plain": [
       "'23,45,66'"
      ]
     },
     "execution_count": 2,
     "metadata": {},
     "output_type": "execute_result"
    }
   ],
   "source": [
    "po_int"
   ]
  },
  {
   "cell_type": "code",
   "execution_count": 3,
   "id": "b8d7a257",
   "metadata": {},
   "outputs": [
    {
     "data": {
      "text/plain": [
       "['23', '45', '66']"
      ]
     },
     "execution_count": 3,
     "metadata": {},
     "output_type": "execute_result"
    }
   ],
   "source": [
    "values =po_int.split(\",\")\n",
    "values"
   ]
  },
  {
   "cell_type": "code",
   "execution_count": 4,
   "id": "01e955fd",
   "metadata": {},
   "outputs": [
    {
     "name": "stdout",
     "output_type": "stream",
     "text": [
      "0\n",
      "23\n",
      "23 Lie on x-axis\n",
      "1\n",
      "45\n",
      "45 Lie on y-axis\n",
      "2\n",
      "66\n",
      "66 Lie on z-axis\n"
     ]
    }
   ],
   "source": [
    "for axis_index in range(len(values)):\n",
    "    print(axis_index)\n",
    "    \n",
    "    axis_value =values[axis_index]\n",
    "    print(axis_value)\n",
    "\n",
    "    if axis_index == 0:\n",
    "        print(axis_value, \"Lie on x-axis\")\n",
    "    elif axis_index ==1:\n",
    "        print(axis_value, \"Lie on y-axis\")\n",
    "    else:\n",
    "        print(axis_value, \"Lie on z-axis\")"
   ]
  },
  {
   "cell_type": "markdown",
   "id": "a9f96075",
   "metadata": {},
   "source": [
    "# Q15:"
   ]
  },
  {
   "cell_type": "code",
   "execution_count": 26,
   "id": "1552a5e5",
   "metadata": {},
   "outputs": [
    {
     "name": "stdout",
     "output_type": "stream",
     "text": [
      "Distance between points (2, 3) and (5, 7) is 5.0\n"
     ]
    }
   ],
   "source": [
    "# point a\n",
    "x1 = 2\n",
    "y1 = 3\n",
    "# point b\n",
    "x2 = 5\n",
    "y2 = 7\n",
    "\n",
    "# distance b/w a and b\n",
    "distance = ((x1 - x2)**2 + (y1 - y2)**2)**0.5\n",
    "# display the result\n",
    "print(\"Distance between points ({}, {}) and ({}, {}) is {}\".format(x1,y1,x2,y2,distance))"
   ]
  },
  {
   "cell_type": "markdown",
   "id": "ca400495",
   "metadata": {},
   "source": [
    "# Q16:"
   ]
  },
  {
   "cell_type": "code",
   "execution_count": 49,
   "id": "41d2a040",
   "metadata": {},
   "outputs": [
    {
     "name": "stdout",
     "output_type": "stream",
     "text": [
      "Enter triangle sides:x:6\n",
      "Enter triangle sides:y:8\n",
      "Enter triangle sides:z:8\n",
      "Isosceles triangle:\n"
     ]
    }
   ],
   "source": [
    "a_12 =int(input(\"Enter triangle sides:x:\"))\n",
    "b_12 =int(input(\"Enter triangle sides:y:\"))\n",
    "c_12 =int(input(\"Enter triangle sides:z:\"))\n",
    "\n",
    "if a_12==b_12==c_12:\n",
    "    print(\"Equilateral triangle:\")\n",
    "elif a_12==b_12 or b_12==c_12 or c_12==a_12:\n",
    "    print(\"Isosceles triangle:\")\n",
    "else:\n",
    "    print(\"Scalene triangle\")"
   ]
  },
  {
   "cell_type": "markdown",
   "id": "b4620b52",
   "metadata": {},
   "source": [
    "# Q17:"
   ]
  },
  {
   "cell_type": "code",
   "execution_count": 2,
   "id": "0c350e88",
   "metadata": {},
   "outputs": [
    {
     "name": "stdout",
     "output_type": "stream",
     "text": [
      "15\n",
      "13\n",
      "13\n",
      "15\n",
      "done\n",
      "Thank you\n",
      "56\n",
      "4\n",
      "14.0\n"
     ]
    }
   ],
   "source": [
    "total = 0\n",
    "count = 0\n",
    "average = 0\n",
    "\n",
    "while True:\n",
    "    number = input()\n",
    "    if number=='done':\n",
    "        print(\"Thank you\")\n",
    "        print(total)\n",
    "        print(count)\n",
    "        print(total/count)\n",
    "        break\n",
    "        \n",
    "    elif (number!='done') and (not number.isdigit()):\n",
    "        print(\"Please try again.There is some mistake.\")\n",
    "        continue\n",
    "        \n",
    "    number =int(number)\n",
    "    total =total + number\n",
    "    count =count + 1"
   ]
  }
 ],
 "metadata": {
  "kernelspec": {
   "display_name": "Python 3 (ipykernel)",
   "language": "python",
   "name": "python3"
  },
  "language_info": {
   "codemirror_mode": {
    "name": "ipython",
    "version": 3
   },
   "file_extension": ".py",
   "mimetype": "text/x-python",
   "name": "python",
   "nbconvert_exporter": "python",
   "pygments_lexer": "ipython3",
   "version": "3.9.12"
  }
 },
 "nbformat": 4,
 "nbformat_minor": 5
}
